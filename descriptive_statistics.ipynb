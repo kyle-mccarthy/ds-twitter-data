{
 "cells": [
  {
   "cell_type": "markdown",
   "metadata": {},
   "source": [
    "<h1>Descriptive Statistics</h1>\n",
    "\n",
    "- looking at job_id 4257, which describes the MIZZOU topic"
   ]
  },
  {
   "cell_type": "markdown",
   "metadata": {},
   "source": [
    "<h3>Setup The Data</h3>\n",
    "<p>Below we are going to do a basic set up of the notebook as far as importing libraries, and starting the MySQL connection goes.  Additionally, I am going to save the data to a CSV so I can avoid hitting the massive MySQL database as it is extremely slow.</p>"
   ]
  },
  {
   "cell_type": "code",
   "execution_count": 21,
   "metadata": {
    "collapsed": true
   },
   "outputs": [],
   "source": [
    "import pymysql as mdb\n",
    "import pandas as pd\n",
    "import numpy as np\n",
    "from collections import Counter\n",
    "\n",
    "connection = mdb.connect('128.206.116.195', 'tg4_ro', '?3stEt7!3hUbRa-R', 'tw4_db')\n",
    "csv_file = 'output/4257_dump.csv'"
   ]
  },
  {
   "cell_type": "code",
   "execution_count": 40,
   "metadata": {
    "collapsed": false
   },
   "outputs": [],
   "source": [
    "sql = \"SELECT * FROM tweet WHERE job_id = 4257\"\n",
    "\n",
    "results = pd.read_sql_query(sql, connection, parse_dates=['created_at'])"
   ]
  },
  {
   "cell_type": "code",
   "execution_count": 41,
   "metadata": {
    "collapsed": true
   },
   "outputs": [],
   "source": [
    "results.to_csv(csv_file, index=False)"
   ]
  },
  {
   "cell_type": "code",
   "execution_count": 56,
   "metadata": {
    "collapsed": false
   },
   "outputs": [],
   "source": [
    "types = {\n",
    "    'tweet_id_str': 'object',\n",
    "    'job_id': 'int64',\n",
    "    'text': 'object',\n",
    "    'from_user': 'object',\n",
    "    'from_user_id_str': 'object',\n",
    "    'from_user_name': 'object',\n",
    "    'from_user_fullname': 'object',\n",
    "    'from_user_followers': 'int64',\n",
    "    'from_user_following': 'int64',\n",
    "    'from_user_favorites': 'int64',\n",
    "    'from_user_tweets': 'int64',\n",
    "    'from_user_timezone': 'object',\n",
    "    'to_user': 'object',\n",
    "    'to_user_id_str': 'object',\n",
    "    'to_user_name': 'object',\n",
    "    'source': 'object',\n",
    "    'location_geo': 'object',\n",
    "    'location_geo_0': 'float64',\n",
    "    'location_geo_1': 'float64',\n",
    "    'iso_language': 'object',\n",
    "    'analysis_state': 'int64',\n",
    "}\n",
    "\n",
    "# df = pd.read_csv(csv_file, dtype=types, parse_dates='created_at')\n",
    "df = results"
   ]
  },
  {
   "cell_type": "markdown",
   "metadata": {
    "collapsed": false
   },
   "source": [
    "<h2>How many tweets are in the collection?</h2>"
   ]
  },
  {
   "cell_type": "code",
   "execution_count": 57,
   "metadata": {
    "collapsed": false
   },
   "outputs": [
    {
     "name": "stdout",
     "output_type": "stream",
     "text": [
      "There are 748811 row in the collection.\n",
      "There are 748811 row in the collection.\n"
     ]
    }
   ],
   "source": [
    "print(\"There are \" + str(len(df.index)) + \" row in the collection.\")"
   ]
  },
  {
   "cell_type": "markdown",
   "metadata": {},
   "source": [
    "<h2>When do they start?</h2>"
   ]
  },
  {
   "cell_type": "code",
   "execution_count": 58,
   "metadata": {
    "collapsed": false
   },
   "outputs": [
    {
     "data": {
      "text/html": [
       "<div>\n",
       "<table border=\"1\" class=\"dataframe\">\n",
       "  <thead>\n",
       "    <tr style=\"text-align: right;\">\n",
       "      <th></th>\n",
       "      <th>tweet_id_str</th>\n",
       "      <th>job_id</th>\n",
       "      <th>created_at</th>\n",
       "      <th>text</th>\n",
       "      <th>from_user</th>\n",
       "      <th>from_user_id_str</th>\n",
       "      <th>from_user_name</th>\n",
       "      <th>from_user_fullname</th>\n",
       "      <th>from_user_followers</th>\n",
       "      <th>from_user_following</th>\n",
       "      <th>...</th>\n",
       "      <th>from_user_timezone</th>\n",
       "      <th>to_user</th>\n",
       "      <th>to_user_id_str</th>\n",
       "      <th>to_user_name</th>\n",
       "      <th>source</th>\n",
       "      <th>location_geo</th>\n",
       "      <th>location_geo_0</th>\n",
       "      <th>location_geo_1</th>\n",
       "      <th>iso_language</th>\n",
       "      <th>analysis_state</th>\n",
       "    </tr>\n",
       "  </thead>\n",
       "  <tbody>\n",
       "    <tr>\n",
       "      <th>0</th>\n",
       "      <td>664322875084640256</td>\n",
       "      <td>4257</td>\n",
       "      <td>2015-11-11 06:04:50</td>\n",
       "      <td>@YikYakApp how are you handling the terrorist ...</td>\n",
       "      <td>16139420</td>\n",
       "      <td>16139420</td>\n",
       "      <td>BeLeather</td>\n",
       "      <td>Be Leather</td>\n",
       "      <td>642</td>\n",
       "      <td>490</td>\n",
       "      <td>...</td>\n",
       "      <td>Pacific Time (US &amp; Canada)</td>\n",
       "      <td>1019043228</td>\n",
       "      <td>1019043228</td>\n",
       "      <td>YikYakApp</td>\n",
       "      <td>&lt;a href=\"http://twitter.com/download/iphone\" r...</td>\n",
       "      <td>None</td>\n",
       "      <td>NaN</td>\n",
       "      <td>NaN</td>\n",
       "      <td>en</td>\n",
       "      <td>0</td>\n",
       "    </tr>\n",
       "  </tbody>\n",
       "</table>\n",
       "<p>1 rows × 22 columns</p>\n",
       "</div>"
      ],
      "text/plain": [
       "         tweet_id_str  job_id          created_at  \\\n",
       "0  664322875084640256    4257 2015-11-11 06:04:50   \n",
       "\n",
       "                                                text from_user  \\\n",
       "0  @YikYakApp how are you handling the terrorist ...  16139420   \n",
       "\n",
       "  from_user_id_str from_user_name from_user_fullname  from_user_followers  \\\n",
       "0         16139420      BeLeather         Be Leather                  642   \n",
       "\n",
       "   from_user_following       ...                from_user_timezone  \\\n",
       "0                  490       ...        Pacific Time (US & Canada)   \n",
       "\n",
       "      to_user to_user_id_str to_user_name  \\\n",
       "0  1019043228     1019043228    YikYakApp   \n",
       "\n",
       "                                              source location_geo  \\\n",
       "0  <a href=\"http://twitter.com/download/iphone\" r...         None   \n",
       "\n",
       "  location_geo_0 location_geo_1  iso_language  analysis_state  \n",
       "0            NaN            NaN            en               0  \n",
       "\n",
       "[1 rows x 22 columns]"
      ]
     },
     "execution_count": 58,
     "metadata": {},
     "output_type": "execute_result"
    }
   ],
   "source": [
    "df.sort_values('created_at')\n",
    "df.head(1)"
   ]
  },
  {
   "cell_type": "markdown",
   "metadata": {
    "collapsed": false
   },
   "source": [
    "<strong>Mizzou tweets</strong>\n",
    "\n",
    "The first tweet contained in the Mizzou collection was from the user @BeLeather on 11/11/2015, this Tweet was interesting as it was Tweeted to another user (@YikYakApp) as indicated in the dicitonary above."
   ]
  },
  {
   "cell_type": "markdown",
   "metadata": {},
   "source": [
    "<h2>When do they end?</h2>"
   ]
  },
  {
   "cell_type": "code",
   "execution_count": 59,
   "metadata": {
    "collapsed": false
   },
   "outputs": [
    {
     "data": {
      "text/html": [
       "<div>\n",
       "<table border=\"1\" class=\"dataframe\">\n",
       "  <thead>\n",
       "    <tr style=\"text-align: right;\">\n",
       "      <th></th>\n",
       "      <th>tweet_id_str</th>\n",
       "      <th>job_id</th>\n",
       "      <th>created_at</th>\n",
       "      <th>text</th>\n",
       "      <th>from_user</th>\n",
       "      <th>from_user_id_str</th>\n",
       "      <th>from_user_name</th>\n",
       "      <th>from_user_fullname</th>\n",
       "      <th>from_user_followers</th>\n",
       "      <th>from_user_following</th>\n",
       "      <th>...</th>\n",
       "      <th>from_user_timezone</th>\n",
       "      <th>to_user</th>\n",
       "      <th>to_user_id_str</th>\n",
       "      <th>to_user_name</th>\n",
       "      <th>source</th>\n",
       "      <th>location_geo</th>\n",
       "      <th>location_geo_0</th>\n",
       "      <th>location_geo_1</th>\n",
       "      <th>iso_language</th>\n",
       "      <th>analysis_state</th>\n",
       "    </tr>\n",
       "  </thead>\n",
       "  <tbody>\n",
       "    <tr>\n",
       "      <th>748810</th>\n",
       "      <td>723260087096233985</td>\n",
       "      <td>4257</td>\n",
       "      <td>2016-04-21 21:20:16</td>\n",
       "      <td>Low-level officials face indictment in #Flint ...</td>\n",
       "      <td>494626920</td>\n",
       "      <td>494626920</td>\n",
       "      <td>IYSSE_US</td>\n",
       "      <td>IYSSE</td>\n",
       "      <td>724</td>\n",
       "      <td>1331</td>\n",
       "      <td>...</td>\n",
       "      <td>Atlantic Time (Canada)</td>\n",
       "      <td>None</td>\n",
       "      <td>None</td>\n",
       "      <td>None</td>\n",
       "      <td>&lt;a href=\"http://www.hootsuite.com\" rel=\"nofoll...</td>\n",
       "      <td>None</td>\n",
       "      <td>NaN</td>\n",
       "      <td>NaN</td>\n",
       "      <td>en</td>\n",
       "      <td>0</td>\n",
       "    </tr>\n",
       "  </tbody>\n",
       "</table>\n",
       "<p>1 rows × 22 columns</p>\n",
       "</div>"
      ],
      "text/plain": [
       "              tweet_id_str  job_id          created_at  \\\n",
       "748810  723260087096233985    4257 2016-04-21 21:20:16   \n",
       "\n",
       "                                                     text  from_user  \\\n",
       "748810  Low-level officials face indictment in #Flint ...  494626920   \n",
       "\n",
       "       from_user_id_str from_user_name from_user_fullname  \\\n",
       "748810        494626920       IYSSE_US              IYSSE   \n",
       "\n",
       "        from_user_followers  from_user_following       ...        \\\n",
       "748810                  724                 1331       ...         \n",
       "\n",
       "            from_user_timezone  to_user to_user_id_str to_user_name  \\\n",
       "748810  Atlantic Time (Canada)     None           None         None   \n",
       "\n",
       "                                                   source location_geo  \\\n",
       "748810  <a href=\"http://www.hootsuite.com\" rel=\"nofoll...         None   \n",
       "\n",
       "       location_geo_0 location_geo_1  iso_language  analysis_state  \n",
       "748810            NaN            NaN            en               0  \n",
       "\n",
       "[1 rows x 22 columns]"
      ]
     },
     "execution_count": 59,
     "metadata": {},
     "output_type": "execute_result"
    }
   ],
   "source": [
    "df.tail(1)"
   ]
  },
  {
   "cell_type": "markdown",
   "metadata": {},
   "source": [
    "<strong>Mizzou Tweets</strong>\n",
    "\n",
    "The most recent Mizzou tweet was from the user @IYSSE_US also on 4/21/2016.  This one is particuarly interesting as the content of the tweet doesn't actually have anything to do with Mizzou, and after following the link contained in the tweet, it doesn't clear up why the #MIZZOU hashtag was included."
   ]
  },
  {
   "cell_type": "markdown",
   "metadata": {},
   "source": [
    "<h2>What is the trend for tweet volume?</h2>"
   ]
  },
  {
   "cell_type": "markdown",
   "metadata": {},
   "source": [
    "<p>To look at the tweet volume, we will need to figure out the best way to group the data.  Grouping by month and year should serve as a good indicator.</p>"
   ]
  },
  {
   "cell_type": "code",
   "execution_count": 60,
   "metadata": {
    "collapsed": false
   },
   "outputs": [],
   "source": [
    "group = {}\n",
    "\n",
    "for index, tweet in df.iterrows():\n",
    "    timestamp = pd.Timestamp(tweet.created_at)\n",
    "    year = timestamp.year\n",
    "    month = timestamp.month\n",
    "    try:\n",
    "        group[str(year) + '-' + str(month)].append(tweet)\n",
    "    except KeyError:\n",
    "        group[str(year) + '-' + str(month)] = []\n",
    "        group[str(year) + '-' + str(month)].append(tweet)"
   ]
  },
  {
   "cell_type": "code",
   "execution_count": null,
   "metadata": {
    "collapsed": true
   },
   "outputs": [],
   "source": []
  },
  {
   "cell_type": "markdown",
   "metadata": {},
   "source": [
    "<h2>If you look at the most common words over the lifetime of the search, do you notice any particular trends associated with those words?</h2>"
   ]
  },
  {
   "cell_type": "markdown",
   "metadata": {},
   "source": [
    "<p>Below aims to look at the overall picture of the 10 most common words mentioned over the lifetime of the collection.  This will set up the process of actually going through and viewing how words change and the trends assocaited with them.</p>\n",
    "\n",
    "<p>As a side note, a lot of tweet's didn't actually contain any values and this introduced a problem when counting words.  The tweets without values would appear as \"NaN\" in the frequency list, so I had to go back and check to make sure that the tweets actually contianed a body.</p>"
   ]
  },
  {
   "cell_type": "code",
   "execution_count": 61,
   "metadata": {
    "collapsed": false
   },
   "outputs": [
    {
     "data": {
      "text/plain": [
       "[('#mizzou', 598620),\n",
       " ('rt', 554665),\n",
       " ('the', 339603),\n",
       " ('to', 229735),\n",
       " ('a', 201197),\n",
       " ('of', 176879),\n",
       " ('is', 166431),\n",
       " ('at', 134669),\n",
       " ('and', 124937),\n",
       " ('in', 124303)]"
      ]
     },
     "execution_count": 61,
     "metadata": {},
     "output_type": "execute_result"
    }
   ],
   "source": [
    "words = []\n",
    "for index, tweet in df.iterrows():\n",
    "    text = str(tweet['text']).lower()\n",
    "    if len(text) > 0 and text != 'nan':\n",
    "        for word in text.split():\n",
    "            words.append(word)\n",
    "\n",
    "Counter(words).most_common()[:10]"
   ]
  },
  {
   "cell_type": "code",
   "execution_count": null,
   "metadata": {
    "collapsed": false
   },
   "outputs": [],
   "source": []
  },
  {
   "cell_type": "markdown",
   "metadata": {},
   "source": [
    "<h2>What external events might correspond with the differences in the trends of most common words?</h2>"
   ]
  },
  {
   "cell_type": "markdown",
   "metadata": {},
   "source": [
    "<h2>What hashtags show up as most prominent in each month of the lifecycle?</h2>"
   ]
  },
  {
   "cell_type": "markdown",
   "metadata": {},
   "source": [
    "<h2>Which twitter users are the most mentioned?</h2>"
   ]
  },
  {
   "cell_type": "markdown",
   "metadata": {},
   "source": [
    "<h2>How frequently is each user mentioned during each month of the lifecycle?</h2>"
   ]
  },
  {
   "cell_type": "markdown",
   "metadata": {},
   "source": [
    "<h2>What is the relationship between the volume of tweets you selected and the volume of tweets for other collections in the data set?<h2>"
   ]
  }
 ],
 "metadata": {
  "kernelspec": {
   "display_name": "Python 3",
   "language": "python",
   "name": "python3"
  },
  "language_info": {
   "codemirror_mode": {
    "name": "ipython",
    "version": 3
   },
   "file_extension": ".py",
   "mimetype": "text/x-python",
   "name": "python",
   "nbconvert_exporter": "python",
   "pygments_lexer": "ipython3",
   "version": "3.4.3"
  }
 },
 "nbformat": 4,
 "nbformat_minor": 0
}
