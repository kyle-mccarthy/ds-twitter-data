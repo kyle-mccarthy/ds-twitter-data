{
 "cells": [
  {
   "cell_type": "markdown",
   "metadata": {},
   "source": [
    "<h1>Descriptive Statistics</h1>\n",
    "\n",
    "- looking at job_id 4257, which describes the MIZZOU topic"
   ]
  },
  {
   "cell_type": "markdown",
   "metadata": {},
   "source": [
    "<h3>Setup The Data</h3>\n",
    "<p>Below we are going to do a basic set up of the notebook as far as importing libraries, and starting the MySQL connection goes.  Additionally, I am going to save the data to a CSV so I can avoid hitting the massive MySQL database as it is extremely slow.</p>"
   ]
  },
  {
   "cell_type": "code",
   "execution_count": 1,
   "metadata": {
    "collapsed": true
   },
   "outputs": [],
   "source": [
    "import pymysql as mdb\n",
    "import pandas as pd\n",
    "\n",
    "connection = mdb.connect('128.206.116.195', 'tg4_ro', '?3stEt7!3hUbRa-R', 'tw4_db')"
   ]
  },
  {
   "cell_type": "code",
   "execution_count": null,
   "metadata": {
    "collapsed": false
   },
   "outputs": [],
   "source": [
    "sql = \"SELECT * FROM tweet WHERE job_id = 4257\"\n",
    "csv_file = 'output/4257_dump.csv'\n",
    "\n",
    "results = pd.read_sql_query(sql, connection, parse_dates=['created_at'])"
   ]
  },
  {
   "cell_type": "code",
   "execution_count": null,
   "metadata": {
    "collapsed": true
   },
   "outputs": [],
   "source": [
    "results.to_csv(csv_file)"
   ]
  },
  {
   "cell_type": "markdown",
   "metadata": {
    "collapsed": false
   },
   "source": [
    "<h2>How many tweets are in the collection?</h2>"
   ]
  },
  {
   "cell_type": "code",
   "execution_count": null,
   "metadata": {
    "collapsed": true
   },
   "outputs": [],
   "source": []
  },
  {
   "cell_type": "markdown",
   "metadata": {},
   "source": [
    "<h2>When do they start?</h2>"
   ]
  },
  {
   "cell_type": "code",
   "execution_count": null,
   "metadata": {
    "collapsed": true
   },
   "outputs": [],
   "source": []
  },
  {
   "cell_type": "markdown",
   "metadata": {
    "collapsed": false
   },
   "source": [
    "<strong>Mizzou tweets</strong>\n",
    "\n",
    "The first tweet contained in the Mizzou collection was from the user @BeLeather on 11/11/2015, this Tweet was interesting as it was Tweeted to another user (@YikYakApp) as indicated in the dicitonary above."
   ]
  },
  {
   "cell_type": "markdown",
   "metadata": {},
   "source": [
    "<h2>When do they end?</h2>"
   ]
  },
  {
   "cell_type": "code",
   "execution_count": null,
   "metadata": {
    "collapsed": true
   },
   "outputs": [],
   "source": []
  },
  {
   "cell_type": "markdown",
   "metadata": {},
   "source": [
    "<strong>Mizzou Tweets</strong>\n",
    "\n",
    "The most recent Mizzou tweet was from the user @IYSSE_US also on 4/21/2016.  This one is particuarly interesting as the content of the tweet doesn't actually have anything to do with Mizzou, and after following the link contained in the tweet, it doesn't clear up why the #MIZZOU hashtag was included."
   ]
  },
  {
   "cell_type": "markdown",
   "metadata": {},
   "source": [
    "<h2>What is the trend for tweet volume?</h2>"
   ]
  },
  {
   "cell_type": "markdown",
   "metadata": {},
   "source": [
    "<h2>If you look at the most common words over the lifetime of the search, do you notice any particular trends associated with those words?</h2>"
   ]
  },
  {
   "cell_type": "code",
   "execution_count": null,
   "metadata": {
    "collapsed": true
   },
   "outputs": [],
   "source": [
    "from collections import Counter\n",
    "\n",
    "# select all of the tweets from each job_id\n",
    "results = []\n",
    "with connection.cursor(mdb.cursors.DictCursor) as cursor:\n",
    "    sql = \"SELECT * FROM tweet WHERE job_id = 4257\"\n",
    "    cursor.execute(sql, (job_id,))\n",
    "    results = cursor.fetchall()\n",
    "        \n",
    "# the tweets have been loaded into the results list, iterate the list and add all of the strings to a list\n",
    "tweets = []\n",
    "for tweet in results:\n",
    "    tweets.append(tweet['text'])\n",
    "        \n",
    "# now that we have all of the tweets we want to look at the frequency of the words\n",
    "for text in tweets:\n",
    "    for word in text.split():\n",
    "        words.append(w)\n",
    "\n",
    "print(Counter(words).most_common()[:10])"
   ]
  },
  {
   "cell_type": "markdown",
   "metadata": {},
   "source": [
    "<h2>What external events might correspond with the differences in the trends of most common words?</h2>"
   ]
  },
  {
   "cell_type": "markdown",
   "metadata": {},
   "source": [
    "<h2>What hashtags show up as most prominent in each month of the lifecycle?</h2>"
   ]
  },
  {
   "cell_type": "markdown",
   "metadata": {},
   "source": [
    "<h2>Which twitter users are the most mentioned?</h2>"
   ]
  },
  {
   "cell_type": "markdown",
   "metadata": {},
   "source": [
    "<h2>How frequently is each user mentioned during each month of the lifecycle?</h2>"
   ]
  },
  {
   "cell_type": "markdown",
   "metadata": {},
   "source": [
    "<h2>What is the relationship between the volume of tweets you selected and the volume of tweets for other collections in the data set?<h2>"
   ]
  }
 ],
 "metadata": {
  "kernelspec": {
   "display_name": "Python 3",
   "language": "python",
   "name": "python3"
  },
  "language_info": {
   "codemirror_mode": {
    "name": "ipython",
    "version": 3
   },
   "file_extension": ".py",
   "mimetype": "text/x-python",
   "name": "python",
   "nbconvert_exporter": "python",
   "pygments_lexer": "ipython3",
   "version": "3.4.3"
  }
 },
 "nbformat": 4,
 "nbformat_minor": 0
}
