{
 "cells": [
  {
   "cell_type": "markdown",
   "metadata": {},
   "source": [
    "<h1>Research Data</h1>\n",
    "<h2>Research Question</h2>\n",
    "<p>Does the content of a tweet serve as a predictor for what 'description' it will fall under? The description's are related to particular job_ids and the job_ids contain many tweets.</p>\n",
    "<h2>The Process</h2>"
   ]
  },
  {
   "cell_type": "code",
   "execution_count": 1,
   "metadata": {
    "collapsed": false
   },
   "outputs": [],
   "source": [
    "import pymysql as mdb\n",
    "import pandas as pd\n",
    "\n",
    "connection = mdb.connect('128.206.116.195', 'tg4_ro', '?3stEt7!3hUbRa-R', 'tw4_db')"
   ]
  },
  {
   "cell_type": "code",
   "execution_count": 2,
   "metadata": {
    "collapsed": true
   },
   "outputs": [],
   "source": [
    "jobs = [\n",
    "   {\n",
    "      \"job_id\":\"1160\",\n",
    "      \"query\":\"q=%23tornado\",\n",
    "      \"description\":\"Weather\"\n",
    "   },\n",
    "   {\n",
    "      \"job_id\":\"2335\",\n",
    "      \"query\":\"q=%23earthquake\",\n",
    "      \"description\":\"Weather\"\n",
    "   },  \n",
    "   {\n",
    "      \"job_id\":\"2616\",\n",
    "      \"query\":\"q=autism\",\n",
    "      \"description\":\"Autism\"\n",
    "   },\n",
    "   {\n",
    "      \"job_id\":\"4219\",\n",
    "      \"query\":\"q=%23teaparty\",\n",
    "      \"description\":\"Election\"\n",
    "   },\n",
    "   {\n",
    "      \"job_id\":\"4220\",\n",
    "      \"query\":\"q=%23election\",\n",
    "      \"description\":\"Election\"\n",
    "   },\n",
    "   {\n",
    "      \"job_id\":\"4221\",\n",
    "      \"query\":\"q=%23voterfraud\",\n",
    "      \"description\":\"Election\"\n",
    "   },   \n",
    "   {\n",
    "      \"job_id\":\"4253\",\n",
    "      \"query\":\"q=%23mizzouunited\",\n",
    "      \"description\":\"Mizzou\"\n",
    "   },\n",
    "   {\n",
    "      \"job_id\":\"4257\",\n",
    "      \"query\":\"q=%23MIZZOU\",\n",
    "      \"description\":\"Mizzou\"\n",
    "   },\n",
    "   {\n",
    "      \"job_id\":\"4258\",\n",
    "      \"query\":\"q=%23prayformizzou\",\n",
    "      \"description\":\"Mizzou\"\n",
    "   },\n",
    "]"
   ]
  },
  {
   "cell_type": "code",
   "execution_count": 3,
   "metadata": {
    "collapsed": false
   },
   "outputs": [
    {
     "name": "stdout",
     "output_type": "stream",
     "text": [
      "1160\n",
      "2335\n",
      "2616\n",
      "4219\n",
      "4220\n",
      "4221\n",
      "4253\n",
      "4257\n",
      "4258\n"
     ]
    }
   ],
   "source": [
    "for job in jobs:\n",
    "    sql = 'SELECT job_id, text, created_at FROM tweet WHERE job_id = %(job_id)s'\n",
    "    job['result'] = pd.read_sql_query(sql, connection, parse_dates=['created_at'], params = {'job_id': job['job_id']})\n",
    "    print(job['job_id'])"
   ]
  },
  {
   "cell_type": "code",
   "execution_count": 4,
   "metadata": {
    "collapsed": false
   },
   "outputs": [
    {
     "name": "stdout",
     "output_type": "stream",
     "text": [
      "151648\n",
      "843051\n",
      "7318111\n",
      "3716723\n",
      "460743\n",
      "108052\n",
      "2250\n",
      "748811\n",
      "201828\n"
     ]
    }
   ],
   "source": [
    "for job in jobs:\n",
    "    print(len(job['result']))"
   ]
  },
  {
   "cell_type": "code",
   "execution_count": 7,
   "metadata": {
    "collapsed": false
   },
   "outputs": [],
   "source": [
    "from naiveBayesClassifier import tokenizer\n",
    "from naiveBayesClassifier.trainer import Trainer\n",
    "from naiveBayesClassifier.classifier import Classifier\n",
    "\n",
    "trainer = Trainer(tokenizer)"
   ]
  },
  {
   "cell_type": "markdown",
   "metadata": {},
   "source": [
    "<h2>Sort into training and test data</h2>\n",
    "<p>We want to split the data into test and training sets.  I am going to take the first 3/4 and use that as the training data and then the remaning 1/4 of the data as test data.  To do that I need to get the total count for each job_id, if the index/len(job_id) is less than 3/4 it is added as training data, otherwise it gets added as test data.</p>"
   ]
  },
  {
   "cell_type": "code",
   "execution_count": 29,
   "metadata": {
    "collapsed": false
   },
   "outputs": [],
   "source": [
    "training = []\n",
    "test = []\n",
    "\n",
    "for job in jobs:\n",
    "    total = len(job['result'])\n",
    "    count = 0\n",
    "    for index, result in job['result'].iterrows():\n",
    "        item = {\n",
    "            'description': job['description'],\n",
    "            'text': result['text']\n",
    "        }\n",
    "        if count/total < 3/4:\n",
    "            training.append(item)\n",
    "        else:\n",
    "            test.append(item)\n",
    "        count += 1"
   ]
  },
  {
   "cell_type": "code",
   "execution_count": 30,
   "metadata": {
    "collapsed": true
   },
   "outputs": [],
   "source": [
    "for item in training:\n",
    "    trainer.train(item['text'], item['description'])"
   ]
  },
  {
   "cell_type": "code",
   "execution_count": 32,
   "metadata": {
    "collapsed": true
   },
   "outputs": [],
   "source": [
    "classifier = Classifier(trainer.data, tokenizer)"
   ]
  },
  {
   "cell_type": "code",
   "execution_count": 43,
   "metadata": {
    "collapsed": false
   },
   "outputs": [
    {
     "name": "stdout",
     "output_type": "stream",
     "text": [
      "3368279\n",
      "3387800\n"
     ]
    }
   ],
   "source": [
    "correct_cat = 0\n",
    "\n",
    "for item in test:\n",
    "    res = classifier.classify(item['text'])\n",
    "    if res[0][0] == item['description']:\n",
    "        correct_cat += 1\n",
    "\n",
    "print(correct_cat)\n",
    "print(len(test))"
   ]
  },
  {
   "cell_type": "code",
   "execution_count": 45,
   "metadata": {
    "collapsed": false
   },
   "outputs": [
    {
     "name": "stdout",
     "output_type": "stream",
     "text": [
      "accuracy: 99.4237853474231%\n"
     ]
    }
   ],
   "source": [
    "print(\"accuracy: \" + str(correct_cat/len(test)*100) + \"%\")"
   ]
  },
  {
   "cell_type": "markdown",
   "metadata": {},
   "source": [
    "<h2>The Results</h2>\n",
    "<p>After training the classifer, the tweets were able to be categorized with 99.4% accuracy.</p>"
   ]
  }
 ],
 "metadata": {
  "kernelspec": {
   "display_name": "Python 3",
   "language": "python",
   "name": "python3"
  },
  "language_info": {
   "codemirror_mode": {
    "name": "ipython",
    "version": 3
   },
   "file_extension": ".py",
   "mimetype": "text/x-python",
   "name": "python",
   "nbconvert_exporter": "python",
   "pygments_lexer": "ipython3",
   "version": "3.4.3"
  }
 },
 "nbformat": 4,
 "nbformat_minor": 0
}
